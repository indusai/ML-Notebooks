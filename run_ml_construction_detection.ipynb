{
 "cells": [
  {
   "cell_type": "markdown",
   "metadata": {},
   "source": [
    "## Indus.ai Construction Machines / Worker Detection"
   ]
  },
  {
   "cell_type": "markdown",
   "metadata": {},
   "source": [
    "This notebook contains a step-by-step guide to using Indus.ai's Construction Machines / Worker Detection models!"
   ]
  },
  {
   "cell_type": "code",
   "execution_count": 1,
   "metadata": {},
   "outputs": [],
   "source": [
    "import os, sys\n",
    "import time\n",
    "import boto3\n",
    "import json\n",
    "import cv2\n",
    "import random\n",
    "import numpy as np\n",
    "import tensorflow as tf\n",
    "from sagemaker.content_types import CONTENT_TYPE_JSON, CONTENT_TYPE_CSV, CONTENT_TYPE_NPY\n",
    "from sagemaker.session import Session"
   ]
  },
  {
   "cell_type": "markdown",
   "metadata": {},
   "source": [
    "Start the sagemaker runtime session. Set the endpoint name according to what you created in sagemaker"
   ]
  },
  {
   "cell_type": "code",
   "execution_count": 2,
   "metadata": {},
   "outputs": [],
   "source": [
    "ENDPOINT_NAME = \"construction-machines-endpoint\"\n",
    "runtime= boto3.Session().client(service_name='runtime.sagemaker')"
   ]
  },
  {
   "cell_type": "markdown",
   "metadata": {},
   "source": [
    "Read your image file and convert it to bytes.\n",
    "\n",
    "Then invoke the endpoint. Make sure that your content type is some kind of image [image/jpeg, image/png, image/bmp]"
   ]
  },
  {
   "cell_type": "code",
   "execution_count": 3,
   "metadata": {},
   "outputs": [
    {
     "name": "stdout",
     "output_type": "stream",
     "text": [
      "--- 2.98668694496 seconds ---\n"
     ]
    }
   ],
   "source": [
    "file_name = \"construction.jpg\"\n",
    "name, extension = os.path.splitext(file_name)\n",
    "\n",
    "bytes_image = open(file_name, \"rb\")\n",
    "bytes_image = bytearray(bytes_image.read())\n",
    "\n",
    "start_time = time.time()\n",
    "response = runtime.invoke_endpoint(EndpointName=ENDPOINT_NAME,\n",
    "                                   ContentType='image/png',\n",
    "                                   Body=bytes_image)\n",
    "print(\"--- %s seconds ---\" % (time.time() - start_time))"
   ]
  },
  {
   "cell_type": "markdown",
   "metadata": {},
   "source": [
    "The results has a set of bounding boxes under the \"detections\" key in the form of (xmin, ymin, xmax, ymax, label, score). "
   ]
  },
  {
   "cell_type": "code",
   "execution_count": null,
   "metadata": {},
   "outputs": [],
   "source": [
    "response = response['Body'].read()\n",
    "results = json.loads(response)['outputs']"
   ]
  },
  {
   "cell_type": "markdown",
   "metadata": {},
   "source": [
    "Our colour generate will randomly retrieve colours from a pre-defined list of nice looking colours! From there, we'll loop through each of our contours and draw them on the images to show the detections!"
   ]
  },
  {
   "cell_type": "code",
   "execution_count": null,
   "metadata": {},
   "outputs": [
    {
     "name": "stdout",
     "output_type": "stream",
     "text": [
      "Box = [569, 226, 893, 493, u'EXCAVATOR', 0.9947742819786072]\n",
      "Box = [255, 71, 527, 316, u'EXCAVATOR', 0.9960238933563232]\n"
     ]
    }
   ],
   "source": [
    "from pyimagesearch.nms import non_max_suppression\n",
    "\n",
    "COLOR_OPTIONS = [[255, 0, 0], [255, 85, 0], [255, 170, 0], [255, 255, 0], [170, 255, 0], [85, 255, 0], [0, 255, 0],\n",
    "              [0, 255, 85], [0, 255, 170], [0, 255, 255], [0, 170, 255], [0, 85, 255], [0, 0, 255], [85, 0, 255],\n",
    "              [170, 0, 255], [255, 0, 255], [255, 0, 170], [255, 0, 85]]\n",
    "\n",
    "def generate_color():\n",
    "  color_index = random.randint(0, len(COLOR_OPTIONS)-1)\n",
    "  return tuple(COLOR_OPTIONS[color_index])\n",
    "\n",
    "detection_results = json.loads(response)['outputs']['detections']\n",
    "\n",
    "num_detections = len(detection_results)\n",
    "\n",
    "frame = cv2.imread(file_name)\n",
    "height, width, channels = frame.shape\n",
    "full_mask = frame\n",
    "output_image = frame.copy()\n",
    "\n",
    "detection_results = non_max_suppression(detection_results, 0.3)\n",
    "\n",
    "for index, box in enumerate(detection_results):\n",
    "    color = generate_color()\n",
    "    (objX1, objY1, objX2, objY2, label, score) = box\n",
    "    print(\"Box = {}\".format(box))\n",
    "    cv2.rectangle(output_image, (int(objX1), int(objY1)), (int(objX2), int(objY2)), color, 2)\n",
    "    cv2.putText(output_image, str(label), (int(objX1), int(objY1) - 10),\n",
    "                    cv2.FONT_HERSHEY_COMPLEX, 0.4, color, 1)\n",
    "\n",
    "cv2.imwrite(\"output.jpg\", output_image)\n",
    "cv2.imshow(\"Output\", output_image)\n",
    "cv2.waitKey(0)"
   ]
  },
  {
   "cell_type": "code",
   "execution_count": null,
   "metadata": {},
   "outputs": [],
   "source": []
  }
 ],
 "metadata": {
  "kernelspec": {
   "display_name": "Python 2",
   "language": "python",
   "name": "python2"
  },
  "language_info": {
   "codemirror_mode": {
    "name": "ipython",
    "version": 2
   },
   "file_extension": ".py",
   "mimetype": "text/x-python",
   "name": "python",
   "nbconvert_exporter": "python",
   "pygments_lexer": "ipython2",
   "version": "2.7.12"
  }
 },
 "nbformat": 4,
 "nbformat_minor": 2
}
